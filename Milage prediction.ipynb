{
 "cells": [
  {
   "cell_type": "markdown",
   "id": "38733115",
   "metadata": {},
   "source": [
    "## Milage  prediction"
   ]
  },
  {
   "cell_type": "markdown",
   "id": "a66b4835",
   "metadata": {},
   "source": [
    "##Data source from ybifoundation github foundation"
   ]
  },
  {
   "cell_type": "code",
   "execution_count": 72,
   "id": "3c485d17",
   "metadata": {},
   "outputs": [],
   "source": [
    "import pandas as pd"
   ]
  },
  {
   "cell_type": "code",
   "execution_count": 26,
   "id": "11f323d5",
   "metadata": {},
   "outputs": [],
   "source": [
    "import numpy as np"
   ]
  },
  {
   "cell_type": "code",
   "execution_count": 27,
   "id": "7b6c686b",
   "metadata": {},
   "outputs": [],
   "source": [
    "import matplotlib.pyplot as plt"
   ]
  },
  {
   "cell_type": "code",
   "execution_count": 28,
   "id": "f3f0a38f",
   "metadata": {},
   "outputs": [],
   "source": [
    "import seaborn as sns"
   ]
  },
  {
   "cell_type": "code",
   "execution_count": 73,
   "id": "69849f62",
   "metadata": {},
   "outputs": [],
   "source": [
    "data=pd.read_csv(r\"C:\\Users\\Sujan H G\\OneDrive\\Desktop\\csv files\\Dataset-main\\MPG.csv\")"
   ]
  },
  {
   "cell_type": "code",
   "execution_count": 74,
   "id": "aeb1dd2f",
   "metadata": {},
   "outputs": [
    {
     "data": {
      "text/html": [
       "<div>\n",
       "<style scoped>\n",
       "    .dataframe tbody tr th:only-of-type {\n",
       "        vertical-align: middle;\n",
       "    }\n",
       "\n",
       "    .dataframe tbody tr th {\n",
       "        vertical-align: top;\n",
       "    }\n",
       "\n",
       "    .dataframe thead th {\n",
       "        text-align: right;\n",
       "    }\n",
       "</style>\n",
       "<table border=\"1\" class=\"dataframe\">\n",
       "  <thead>\n",
       "    <tr style=\"text-align: right;\">\n",
       "      <th></th>\n",
       "      <th>mpg</th>\n",
       "      <th>cylinders</th>\n",
       "      <th>displacement</th>\n",
       "      <th>horsepower</th>\n",
       "      <th>weight</th>\n",
       "      <th>acceleration</th>\n",
       "      <th>model_year</th>\n",
       "      <th>origin</th>\n",
       "      <th>name</th>\n",
       "    </tr>\n",
       "  </thead>\n",
       "  <tbody>\n",
       "    <tr>\n",
       "      <th>0</th>\n",
       "      <td>18.0</td>\n",
       "      <td>8</td>\n",
       "      <td>307.0</td>\n",
       "      <td>130.0</td>\n",
       "      <td>3504</td>\n",
       "      <td>12.0</td>\n",
       "      <td>70</td>\n",
       "      <td>usa</td>\n",
       "      <td>chevrolet chevelle malibu</td>\n",
       "    </tr>\n",
       "    <tr>\n",
       "      <th>1</th>\n",
       "      <td>15.0</td>\n",
       "      <td>8</td>\n",
       "      <td>350.0</td>\n",
       "      <td>165.0</td>\n",
       "      <td>3693</td>\n",
       "      <td>11.5</td>\n",
       "      <td>70</td>\n",
       "      <td>usa</td>\n",
       "      <td>buick skylark 320</td>\n",
       "    </tr>\n",
       "    <tr>\n",
       "      <th>2</th>\n",
       "      <td>18.0</td>\n",
       "      <td>8</td>\n",
       "      <td>318.0</td>\n",
       "      <td>150.0</td>\n",
       "      <td>3436</td>\n",
       "      <td>11.0</td>\n",
       "      <td>70</td>\n",
       "      <td>usa</td>\n",
       "      <td>plymouth satellite</td>\n",
       "    </tr>\n",
       "    <tr>\n",
       "      <th>3</th>\n",
       "      <td>16.0</td>\n",
       "      <td>8</td>\n",
       "      <td>304.0</td>\n",
       "      <td>150.0</td>\n",
       "      <td>3433</td>\n",
       "      <td>12.0</td>\n",
       "      <td>70</td>\n",
       "      <td>usa</td>\n",
       "      <td>amc rebel sst</td>\n",
       "    </tr>\n",
       "    <tr>\n",
       "      <th>4</th>\n",
       "      <td>17.0</td>\n",
       "      <td>8</td>\n",
       "      <td>302.0</td>\n",
       "      <td>140.0</td>\n",
       "      <td>3449</td>\n",
       "      <td>10.5</td>\n",
       "      <td>70</td>\n",
       "      <td>usa</td>\n",
       "      <td>ford torino</td>\n",
       "    </tr>\n",
       "  </tbody>\n",
       "</table>\n",
       "</div>"
      ],
      "text/plain": [
       "    mpg  cylinders  displacement  horsepower  weight  acceleration  \\\n",
       "0  18.0          8         307.0       130.0    3504          12.0   \n",
       "1  15.0          8         350.0       165.0    3693          11.5   \n",
       "2  18.0          8         318.0       150.0    3436          11.0   \n",
       "3  16.0          8         304.0       150.0    3433          12.0   \n",
       "4  17.0          8         302.0       140.0    3449          10.5   \n",
       "\n",
       "   model_year origin                       name  \n",
       "0          70    usa  chevrolet chevelle malibu  \n",
       "1          70    usa          buick skylark 320  \n",
       "2          70    usa         plymouth satellite  \n",
       "3          70    usa              amc rebel sst  \n",
       "4          70    usa                ford torino  "
      ]
     },
     "execution_count": 74,
     "metadata": {},
     "output_type": "execute_result"
    }
   ],
   "source": [
    "data.head()"
   ]
  },
  {
   "cell_type": "code",
   "execution_count": 23,
   "id": "28710ba7",
   "metadata": {},
   "outputs": [
    {
     "data": {
      "text/html": [
       "<div>\n",
       "<style scoped>\n",
       "    .dataframe tbody tr th:only-of-type {\n",
       "        vertical-align: middle;\n",
       "    }\n",
       "\n",
       "    .dataframe tbody tr th {\n",
       "        vertical-align: top;\n",
       "    }\n",
       "\n",
       "    .dataframe thead th {\n",
       "        text-align: right;\n",
       "    }\n",
       "</style>\n",
       "<table border=\"1\" class=\"dataframe\">\n",
       "  <thead>\n",
       "    <tr style=\"text-align: right;\">\n",
       "      <th></th>\n",
       "      <th>mpg</th>\n",
       "      <th>cylinders</th>\n",
       "      <th>displacement</th>\n",
       "      <th>horsepower</th>\n",
       "      <th>weight</th>\n",
       "      <th>acceleration</th>\n",
       "      <th>model_year</th>\n",
       "    </tr>\n",
       "  </thead>\n",
       "  <tbody>\n",
       "    <tr>\n",
       "      <th>count</th>\n",
       "      <td>398.000000</td>\n",
       "      <td>398.000000</td>\n",
       "      <td>398.000000</td>\n",
       "      <td>392.000000</td>\n",
       "      <td>398.000000</td>\n",
       "      <td>398.000000</td>\n",
       "      <td>398.000000</td>\n",
       "    </tr>\n",
       "    <tr>\n",
       "      <th>mean</th>\n",
       "      <td>23.514573</td>\n",
       "      <td>5.454774</td>\n",
       "      <td>193.425879</td>\n",
       "      <td>104.469388</td>\n",
       "      <td>2970.424623</td>\n",
       "      <td>15.568090</td>\n",
       "      <td>76.010050</td>\n",
       "    </tr>\n",
       "    <tr>\n",
       "      <th>std</th>\n",
       "      <td>7.815984</td>\n",
       "      <td>1.701004</td>\n",
       "      <td>104.269838</td>\n",
       "      <td>38.491160</td>\n",
       "      <td>846.841774</td>\n",
       "      <td>2.757689</td>\n",
       "      <td>3.697627</td>\n",
       "    </tr>\n",
       "    <tr>\n",
       "      <th>min</th>\n",
       "      <td>9.000000</td>\n",
       "      <td>3.000000</td>\n",
       "      <td>68.000000</td>\n",
       "      <td>46.000000</td>\n",
       "      <td>1613.000000</td>\n",
       "      <td>8.000000</td>\n",
       "      <td>70.000000</td>\n",
       "    </tr>\n",
       "    <tr>\n",
       "      <th>25%</th>\n",
       "      <td>17.500000</td>\n",
       "      <td>4.000000</td>\n",
       "      <td>104.250000</td>\n",
       "      <td>75.000000</td>\n",
       "      <td>2223.750000</td>\n",
       "      <td>13.825000</td>\n",
       "      <td>73.000000</td>\n",
       "    </tr>\n",
       "    <tr>\n",
       "      <th>50%</th>\n",
       "      <td>23.000000</td>\n",
       "      <td>4.000000</td>\n",
       "      <td>148.500000</td>\n",
       "      <td>93.500000</td>\n",
       "      <td>2803.500000</td>\n",
       "      <td>15.500000</td>\n",
       "      <td>76.000000</td>\n",
       "    </tr>\n",
       "    <tr>\n",
       "      <th>75%</th>\n",
       "      <td>29.000000</td>\n",
       "      <td>8.000000</td>\n",
       "      <td>262.000000</td>\n",
       "      <td>126.000000</td>\n",
       "      <td>3608.000000</td>\n",
       "      <td>17.175000</td>\n",
       "      <td>79.000000</td>\n",
       "    </tr>\n",
       "    <tr>\n",
       "      <th>max</th>\n",
       "      <td>46.600000</td>\n",
       "      <td>8.000000</td>\n",
       "      <td>455.000000</td>\n",
       "      <td>230.000000</td>\n",
       "      <td>5140.000000</td>\n",
       "      <td>24.800000</td>\n",
       "      <td>82.000000</td>\n",
       "    </tr>\n",
       "  </tbody>\n",
       "</table>\n",
       "</div>"
      ],
      "text/plain": [
       "              mpg   cylinders  displacement  horsepower       weight  \\\n",
       "count  398.000000  398.000000    398.000000  392.000000   398.000000   \n",
       "mean    23.514573    5.454774    193.425879  104.469388  2970.424623   \n",
       "std      7.815984    1.701004    104.269838   38.491160   846.841774   \n",
       "min      9.000000    3.000000     68.000000   46.000000  1613.000000   \n",
       "25%     17.500000    4.000000    104.250000   75.000000  2223.750000   \n",
       "50%     23.000000    4.000000    148.500000   93.500000  2803.500000   \n",
       "75%     29.000000    8.000000    262.000000  126.000000  3608.000000   \n",
       "max     46.600000    8.000000    455.000000  230.000000  5140.000000   \n",
       "\n",
       "       acceleration  model_year  \n",
       "count    398.000000  398.000000  \n",
       "mean      15.568090   76.010050  \n",
       "std        2.757689    3.697627  \n",
       "min        8.000000   70.000000  \n",
       "25%       13.825000   73.000000  \n",
       "50%       15.500000   76.000000  \n",
       "75%       17.175000   79.000000  \n",
       "max       24.800000   82.000000  "
      ]
     },
     "execution_count": 23,
     "metadata": {},
     "output_type": "execute_result"
    }
   ],
   "source": [
    "data.describe()"
   ]
  },
  {
   "cell_type": "code",
   "execution_count": 24,
   "id": "14723d3f",
   "metadata": {},
   "outputs": [
    {
     "name": "stdout",
     "output_type": "stream",
     "text": [
      "<class 'pandas.core.frame.DataFrame'>\n",
      "RangeIndex: 398 entries, 0 to 397\n",
      "Data columns (total 9 columns):\n",
      " #   Column        Non-Null Count  Dtype  \n",
      "---  ------        --------------  -----  \n",
      " 0   mpg           398 non-null    float64\n",
      " 1   cylinders     398 non-null    int64  \n",
      " 2   displacement  398 non-null    float64\n",
      " 3   horsepower    392 non-null    float64\n",
      " 4   weight        398 non-null    int64  \n",
      " 5   acceleration  398 non-null    float64\n",
      " 6   model_year    398 non-null    int64  \n",
      " 7   origin        398 non-null    object \n",
      " 8   name          398 non-null    object \n",
      "dtypes: float64(4), int64(3), object(2)\n",
      "memory usage: 28.1+ KB\n"
     ]
    }
   ],
   "source": [
    "data.info()"
   ]
  },
  {
   "cell_type": "code",
   "execution_count": 29,
   "id": "cc7bed17",
   "metadata": {},
   "outputs": [
    {
     "data": {
      "text/html": [
       "<div>\n",
       "<style scoped>\n",
       "    .dataframe tbody tr th:only-of-type {\n",
       "        vertical-align: middle;\n",
       "    }\n",
       "\n",
       "    .dataframe tbody tr th {\n",
       "        vertical-align: top;\n",
       "    }\n",
       "\n",
       "    .dataframe thead th {\n",
       "        text-align: right;\n",
       "    }\n",
       "</style>\n",
       "<table border=\"1\" class=\"dataframe\">\n",
       "  <thead>\n",
       "    <tr style=\"text-align: right;\">\n",
       "      <th></th>\n",
       "      <th>mpg</th>\n",
       "      <th>cylinders</th>\n",
       "      <th>displacement</th>\n",
       "      <th>horsepower</th>\n",
       "      <th>weight</th>\n",
       "      <th>acceleration</th>\n",
       "      <th>model_year</th>\n",
       "    </tr>\n",
       "  </thead>\n",
       "  <tbody>\n",
       "    <tr>\n",
       "      <th>mpg</th>\n",
       "      <td>1.000000</td>\n",
       "      <td>-0.775396</td>\n",
       "      <td>-0.804203</td>\n",
       "      <td>-0.778427</td>\n",
       "      <td>-0.831741</td>\n",
       "      <td>0.420289</td>\n",
       "      <td>0.579267</td>\n",
       "    </tr>\n",
       "    <tr>\n",
       "      <th>cylinders</th>\n",
       "      <td>-0.775396</td>\n",
       "      <td>1.000000</td>\n",
       "      <td>0.950721</td>\n",
       "      <td>0.842983</td>\n",
       "      <td>0.896017</td>\n",
       "      <td>-0.505419</td>\n",
       "      <td>-0.348746</td>\n",
       "    </tr>\n",
       "    <tr>\n",
       "      <th>displacement</th>\n",
       "      <td>-0.804203</td>\n",
       "      <td>0.950721</td>\n",
       "      <td>1.000000</td>\n",
       "      <td>0.897257</td>\n",
       "      <td>0.932824</td>\n",
       "      <td>-0.543684</td>\n",
       "      <td>-0.370164</td>\n",
       "    </tr>\n",
       "    <tr>\n",
       "      <th>horsepower</th>\n",
       "      <td>-0.778427</td>\n",
       "      <td>0.842983</td>\n",
       "      <td>0.897257</td>\n",
       "      <td>1.000000</td>\n",
       "      <td>0.864538</td>\n",
       "      <td>-0.689196</td>\n",
       "      <td>-0.416361</td>\n",
       "    </tr>\n",
       "    <tr>\n",
       "      <th>weight</th>\n",
       "      <td>-0.831741</td>\n",
       "      <td>0.896017</td>\n",
       "      <td>0.932824</td>\n",
       "      <td>0.864538</td>\n",
       "      <td>1.000000</td>\n",
       "      <td>-0.417457</td>\n",
       "      <td>-0.306564</td>\n",
       "    </tr>\n",
       "    <tr>\n",
       "      <th>acceleration</th>\n",
       "      <td>0.420289</td>\n",
       "      <td>-0.505419</td>\n",
       "      <td>-0.543684</td>\n",
       "      <td>-0.689196</td>\n",
       "      <td>-0.417457</td>\n",
       "      <td>1.000000</td>\n",
       "      <td>0.288137</td>\n",
       "    </tr>\n",
       "    <tr>\n",
       "      <th>model_year</th>\n",
       "      <td>0.579267</td>\n",
       "      <td>-0.348746</td>\n",
       "      <td>-0.370164</td>\n",
       "      <td>-0.416361</td>\n",
       "      <td>-0.306564</td>\n",
       "      <td>0.288137</td>\n",
       "      <td>1.000000</td>\n",
       "    </tr>\n",
       "  </tbody>\n",
       "</table>\n",
       "</div>"
      ],
      "text/plain": [
       "                   mpg  cylinders  displacement  horsepower    weight  \\\n",
       "mpg           1.000000  -0.775396     -0.804203   -0.778427 -0.831741   \n",
       "cylinders    -0.775396   1.000000      0.950721    0.842983  0.896017   \n",
       "displacement -0.804203   0.950721      1.000000    0.897257  0.932824   \n",
       "horsepower   -0.778427   0.842983      0.897257    1.000000  0.864538   \n",
       "weight       -0.831741   0.896017      0.932824    0.864538  1.000000   \n",
       "acceleration  0.420289  -0.505419     -0.543684   -0.689196 -0.417457   \n",
       "model_year    0.579267  -0.348746     -0.370164   -0.416361 -0.306564   \n",
       "\n",
       "              acceleration  model_year  \n",
       "mpg               0.420289    0.579267  \n",
       "cylinders        -0.505419   -0.348746  \n",
       "displacement     -0.543684   -0.370164  \n",
       "horsepower       -0.689196   -0.416361  \n",
       "weight           -0.417457   -0.306564  \n",
       "acceleration      1.000000    0.288137  \n",
       "model_year        0.288137    1.000000  "
      ]
     },
     "execution_count": 29,
     "metadata": {},
     "output_type": "execute_result"
    }
   ],
   "source": [
    "data.corr()"
   ]
  },
  {
   "cell_type": "code",
   "execution_count": 31,
   "id": "a2637126",
   "metadata": {},
   "outputs": [],
   "source": [
    "data=data.dropna()"
   ]
  },
  {
   "cell_type": "code",
   "execution_count": 32,
   "id": "1b808be8",
   "metadata": {},
   "outputs": [
    {
     "name": "stdout",
     "output_type": "stream",
     "text": [
      "<class 'pandas.core.frame.DataFrame'>\n",
      "Int64Index: 392 entries, 0 to 397\n",
      "Data columns (total 9 columns):\n",
      " #   Column        Non-Null Count  Dtype  \n",
      "---  ------        --------------  -----  \n",
      " 0   mpg           392 non-null    float64\n",
      " 1   cylinders     392 non-null    int64  \n",
      " 2   displacement  392 non-null    float64\n",
      " 3   horsepower    392 non-null    float64\n",
      " 4   weight        392 non-null    int64  \n",
      " 5   acceleration  392 non-null    float64\n",
      " 6   model_year    392 non-null    int64  \n",
      " 7   origin        392 non-null    object \n",
      " 8   name          392 non-null    object \n",
      "dtypes: float64(4), int64(3), object(2)\n",
      "memory usage: 30.6+ KB\n"
     ]
    }
   ],
   "source": [
    "data.info()"
   ]
  },
  {
   "cell_type": "markdown",
   "id": "86a1a7cd",
   "metadata": {},
   "source": [
    "### Data Visualization"
   ]
  },
  {
   "cell_type": "code",
   "execution_count": 35,
   "id": "0c9dc600",
   "metadata": {},
   "outputs": [
    {
     "data": {
      "image/png": "[encoded data removed]",
      "text/plain": [
       "<Figure size 720x180 with 4 Axes>"
      ]
     },
     "metadata": {
      "needs_background": "light"
     },
     "output_type": "display_data"
    }
   ],
   "source": [
    "sns.pairplot(data,x_vars=['displacement','horsepower','weight','acceleration'],y_vars=['mpg']);"
   ]
  },
  {
   "cell_type": "code",
   "execution_count": 45,
   "id": "b6a13f53",
   "metadata": {},
   "outputs": [
    {
     "data": {
      "image/png": "[encoded data removed]",
      "text/plain": [
       "<Figure size 432x288 with 1 Axes>"
      ]
     },
     "metadata": {
      "needs_background": "light"
     },
     "output_type": "display_data"
    }
   ],
   "source": [
    "sns.regplot(x='displacement',y='mpg',data=data);"
   ]
  },
  {
   "cell_type": "code",
   "execution_count": 48,
   "id": "3ed3204c",
   "metadata": {},
   "outputs": [
    {
     "data": {
      "text/plain": [
       "Index(['mpg', 'cylinders', 'displacement', 'horsepower', 'weight',\n",
       "       'acceleration', 'model_year', 'origin', 'name'],\n",
       "      dtype='object')"
      ]
     },
     "execution_count": 48,
     "metadata": {},
     "output_type": "execute_result"
    }
   ],
   "source": [
    "data.columns"
   ]
  },
  {
   "cell_type": "code",
   "execution_count": 49,
   "id": "48a7393e",
   "metadata": {},
   "outputs": [],
   "source": [
    "y=data['mpg']"
   ]
  },
  {
   "cell_type": "code",
   "execution_count": 50,
   "id": "c2f3f8a6",
   "metadata": {},
   "outputs": [
    {
     "data": {
      "text/plain": [
       "(392,)"
      ]
     },
     "execution_count": 50,
     "metadata": {},
     "output_type": "execute_result"
    }
   ],
   "source": [
    "y.shape"
   ]
  },
  {
   "cell_type": "code",
   "execution_count": 51,
   "id": "4c3d0bb6",
   "metadata": {},
   "outputs": [],
   "source": [
    "X=data[['displacement', 'horsepower', 'weight','acceleration']]"
   ]
  },
  {
   "cell_type": "code",
   "execution_count": 53,
   "id": "321ac196",
   "metadata": {},
   "outputs": [
    {
     "data": {
      "text/plain": [
       "(392, 4)"
      ]
     },
     "execution_count": 53,
     "metadata": {},
     "output_type": "execute_result"
    }
   ],
   "source": [
    "X.shape"
   ]
  },
  {
   "cell_type": "code",
   "execution_count": 54,
   "id": "aec2f27e",
   "metadata": {},
   "outputs": [
    {
     "data": {
      "text/html": [
       "<div>\n",
       "<style scoped>\n",
       "    .dataframe tbody tr th:only-of-type {\n",
       "        vertical-align: middle;\n",
       "    }\n",
       "\n",
       "    .dataframe tbody tr th {\n",
       "        vertical-align: top;\n",
       "    }\n",
       "\n",
       "    .dataframe thead th {\n",
       "        text-align: right;\n",
       "    }\n",
       "</style>\n",
       "<table border=\"1\" class=\"dataframe\">\n",
       "  <thead>\n",
       "    <tr style=\"text-align: right;\">\n",
       "      <th></th>\n",
       "      <th>displacement</th>\n",
       "      <th>horsepower</th>\n",
       "      <th>weight</th>\n",
       "      <th>acceleration</th>\n",
       "    </tr>\n",
       "  </thead>\n",
       "  <tbody>\n",
       "    <tr>\n",
       "      <th>0</th>\n",
       "      <td>307.0</td>\n",
       "      <td>130.0</td>\n",
       "      <td>3504</td>\n",
       "      <td>12.0</td>\n",
       "    </tr>\n",
       "    <tr>\n",
       "      <th>1</th>\n",
       "      <td>350.0</td>\n",
       "      <td>165.0</td>\n",
       "      <td>3693</td>\n",
       "      <td>11.5</td>\n",
       "    </tr>\n",
       "    <tr>\n",
       "      <th>2</th>\n",
       "      <td>318.0</td>\n",
       "      <td>150.0</td>\n",
       "      <td>3436</td>\n",
       "      <td>11.0</td>\n",
       "    </tr>\n",
       "    <tr>\n",
       "      <th>3</th>\n",
       "      <td>304.0</td>\n",
       "      <td>150.0</td>\n",
       "      <td>3433</td>\n",
       "      <td>12.0</td>\n",
       "    </tr>\n",
       "    <tr>\n",
       "      <th>4</th>\n",
       "      <td>302.0</td>\n",
       "      <td>140.0</td>\n",
       "      <td>3449</td>\n",
       "      <td>10.5</td>\n",
       "    </tr>\n",
       "    <tr>\n",
       "      <th>...</th>\n",
       "      <td>...</td>\n",
       "      <td>...</td>\n",
       "      <td>...</td>\n",
       "      <td>...</td>\n",
       "    </tr>\n",
       "    <tr>\n",
       "      <th>393</th>\n",
       "      <td>140.0</td>\n",
       "      <td>86.0</td>\n",
       "      <td>2790</td>\n",
       "      <td>15.6</td>\n",
       "    </tr>\n",
       "    <tr>\n",
       "      <th>394</th>\n",
       "      <td>97.0</td>\n",
       "      <td>52.0</td>\n",
       "      <td>2130</td>\n",
       "      <td>24.6</td>\n",
       "    </tr>\n",
       "    <tr>\n",
       "      <th>395</th>\n",
       "      <td>135.0</td>\n",
       "      <td>84.0</td>\n",
       "      <td>2295</td>\n",
       "      <td>11.6</td>\n",
       "    </tr>\n",
       "    <tr>\n",
       "      <th>396</th>\n",
       "      <td>120.0</td>\n",
       "      <td>79.0</td>\n",
       "      <td>2625</td>\n",
       "      <td>18.6</td>\n",
       "    </tr>\n",
       "    <tr>\n",
       "      <th>397</th>\n",
       "      <td>119.0</td>\n",
       "      <td>82.0</td>\n",
       "      <td>2720</td>\n",
       "      <td>19.4</td>\n",
       "    </tr>\n",
       "  </tbody>\n",
       "</table>\n",
       "<p>392 rows × 4 columns</p>\n",
       "</div>"
      ],
      "text/plain": [
       "     displacement  horsepower  weight  acceleration\n",
       "0           307.0       130.0    3504          12.0\n",
       "1           350.0       165.0    3693          11.5\n",
       "2           318.0       150.0    3436          11.0\n",
       "3           304.0       150.0    3433          12.0\n",
       "4           302.0       140.0    3449          10.5\n",
       "..            ...         ...     ...           ...\n",
       "393         140.0        86.0    2790          15.6\n",
       "394          97.0        52.0    2130          24.6\n",
       "395         135.0        84.0    2295          11.6\n",
       "396         120.0        79.0    2625          18.6\n",
       "397         119.0        82.0    2720          19.4\n",
       "\n",
       "[392 rows x 4 columns]"
      ]
     },
     "execution_count": 54,
     "metadata": {},
     "output_type": "execute_result"
    }
   ],
   "source": [
    "X"
   ]
  },
  {
   "cell_type": "markdown",
   "id": "1d29772a",
   "metadata": {},
   "source": [
    "## Train test split data"
   ]
  },
  {
   "cell_type": "code",
   "execution_count": 56,
   "id": "89ad47ab",
   "metadata": {},
   "outputs": [],
   "source": [
    "from sklearn.model_selection import train_test_split"
   ]
  },
  {
   "cell_type": "code",
   "execution_count": 58,
   "id": "114cece0",
   "metadata": {},
   "outputs": [],
   "source": [
    "X_train,X_test,y_train,y_test=train_test_split(X,y,train_size=0.7,random_state=2529)"
   ]
  },
  {
   "cell_type": "code",
   "execution_count": 59,
   "id": "b14e3911",
   "metadata": {},
   "outputs": [
    {
     "data": {
      "text/plain": [
       "((274, 4), (118, 4), (274,), (118,))"
      ]
     },
     "execution_count": 59,
     "metadata": {},
     "output_type": "execute_result"
    }
   ],
   "source": [
    "X_train.shape,X_test.shape,y_train.shape,y_test.shape"
   ]
  },
  {
   "cell_type": "markdown",
   "id": "794cf77f",
   "metadata": {},
   "source": [
    "## Linear regression Model"
   ]
  },
  {
   "cell_type": "code",
   "execution_count": 62,
   "id": "198654d6",
   "metadata": {},
   "outputs": [],
   "source": [
    "from sklearn.linear_model import LinearRegression"
   ]
  },
  {
   "cell_type": "code",
   "execution_count": 63,
   "id": "53be04c9",
   "metadata": {},
   "outputs": [],
   "source": [
    "lr=LinearRegression()"
   ]
  },
  {
   "cell_type": "code",
   "execution_count": 65,
   "id": "74455542",
   "metadata": {},
   "outputs": [
    {
     "data": {
      "text/plain": [
       "LinearRegression()"
      ]
     },
     "execution_count": 65,
     "metadata": {},
     "output_type": "execute_result"
    }
   ],
   "source": [
    "lr.fit(X_train,y_train)"
   ]
  },
  {
   "cell_type": "code",
   "execution_count": 67,
   "id": "9e160b16",
   "metadata": {},
   "outputs": [
    {
     "data": {
      "text/plain": [
       "45.10570942699841"
      ]
     },
     "execution_count": 67,
     "metadata": {},
     "output_type": "execute_result"
    }
   ],
   "source": [
    "lr.intercept_"
   ]
  },
  {
   "cell_type": "code",
   "execution_count": 68,
   "id": "74776c2b",
   "metadata": {},
   "outputs": [
    {
     "data": {
      "text/plain": [
       "array([-0.0101203 , -0.04389329, -0.00484238, -0.04171959])"
      ]
     },
     "execution_count": 68,
     "metadata": {},
     "output_type": "execute_result"
    }
   ],
   "source": [
    "lr.coef_"
   ]
  },
  {
   "cell_type": "markdown",
   "id": "c5ddb495",
   "metadata": {},
   "source": [
    "## Predict data"
   ]
  },
  {
   "cell_type": "code",
   "execution_count": 70,
   "id": "73482153",
   "metadata": {},
   "outputs": [],
   "source": [
    "y_pred=lr.predict(X_test)"
   ]
  },
  {
   "cell_type": "code",
   "execution_count": 71,
   "id": "136e2661",
   "metadata": {},
   "outputs": [
    {
     "data": {
      "text/plain": [
       "array([18.51865637, 15.09305675, 14.30128789, 23.6753321 , 29.7546115 ,\n",
       "       23.68796629, 26.61066644, 24.56692437, 15.06260986, 11.94312046,\n",
       "       24.08050053, 27.96518468, 31.66130278, 31.01309132, 18.32428976,\n",
       "       19.32795009, 28.08847536, 32.1506879 , 31.15859692, 27.15792144,\n",
       "       18.82433097, 22.54580176, 26.15598115, 32.36393869, 20.74377679,\n",
       "        8.78027518, 22.19699435, 18.20614294, 25.00052718, 15.26421552,\n",
       "       23.13441082, 17.10542257,  9.87180062, 30.00790415, 20.41204655,\n",
       "       29.11860245, 24.4305187 , 21.72601835, 10.51174626, 13.12426391,\n",
       "       21.41938406, 19.96113872,  6.19146626, 17.79025345, 22.5493033 ,\n",
       "       29.34765021, 13.4861847 , 25.88852083, 29.40406946, 22.41841964,\n",
       "       22.07684766, 16.46575802, 24.06290693, 30.12890046, 10.11318121,\n",
       "        9.85011438, 28.07543852, 23.41426617, 20.08501128, 30.68234133,\n",
       "       20.92026393, 26.78370281, 22.9078744 , 14.15936872, 24.6439883 ,\n",
       "       26.95515832, 15.25709393, 24.11272087, 30.80980589, 14.9770217 ,\n",
       "       27.67836372, 24.2372919 , 10.92177228, 30.22858779, 30.88687365,\n",
       "       27.33992044, 31.18447082, 10.8873597 , 27.63510608, 16.49231363,\n",
       "       25.63229888, 29.49776285, 14.90393439, 32.78670687, 30.37325244,\n",
       "       30.9262743 , 14.71702373, 27.09633246, 26.69933806, 29.06424799,\n",
       "       32.45810182, 29.44846898, 31.61239999, 31.57891837, 21.46542321,\n",
       "       31.76739191, 26.28605476, 28.96419915, 31.09628395, 24.80549594,\n",
       "       18.76490961, 23.28043777, 23.04466919, 22.14143162, 15.95854367,\n",
       "       28.62870918, 25.58809869, 11.4040908 , 25.73334842, 30.83500051,\n",
       "       21.94176255, 15.34532941, 30.37399213, 28.7620624 , 29.3639931 ,\n",
       "       29.10476703, 20.44662365, 28.11466839])"
      ]
     },
     "execution_count": 71,
     "metadata": {},
     "output_type": "execute_result"
    }
   ],
   "source": [
    "y_pred"
   ]
  },
  {
   "cell_type": "code",
   "execution_count": null,
   "id": "c9d724cf",
   "metadata": {},
   "outputs": [],
   "source": []
  }
 ],
 "metadata": {
  "kernelspec": {
   "display_name": "Python 3 (ipykernel)",
   "language": "python",
   "name": "python3"
  },
  "language_info": {
   "codemirror_mode": {
    "name": "ipython",
    "version": 3
   },
   "file_extension": ".py",
   "mimetype": "text/x-python",
   "name": "python",
   "nbconvert_exporter": "python",
   "pygments_lexer": "ipython3",
   "version": "3.9.12"
  }
 },
 "nbformat": 4,
 "nbformat_minor": 5
}
